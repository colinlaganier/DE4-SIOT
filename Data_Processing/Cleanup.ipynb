{
 "cells": [
  {
   "cell_type": "markdown",
   "metadata": {},
   "source": [
    "# Cleanup"
   ]
  },
  {
   "cell_type": "markdown",
   "metadata": {},
   "source": [
    "This Jupyter notebook is the data cleaning pipeline to prepare the raw data from the Mongo Database to be used for the data analysis and the data visualisation on the dashboard. \n",
    "\n",
    "This script requires the following packages:"
   ]
  },
  {
   "cell_type": "code",
   "execution_count": 377,
   "metadata": {},
   "outputs": [],
   "source": [
    "import sys\n",
    "import pandas as pd\n",
    "import numpy as np\n",
    "from pymongo import MongoClient\n",
    "import matplotlib\n",
    "from matplotlib import pyplot as plt\n",
    "import seaborn as sns\n",
    "import config\n",
    "import datetime\n"
   ]
  },
  {
   "cell_type": "code",
   "execution_count": 378,
   "metadata": {},
   "outputs": [],
   "source": [
    "pd.set_option('display.max_rows', None)"
   ]
  },
  {
   "cell_type": "code",
   "execution_count": 379,
   "metadata": {},
   "outputs": [],
   "source": [
    "def GetScore(dataframe):\n",
    "    print(\"Score per column:\")\n",
    "    for column in dataframe:\n",
    "        _columnScore = (dataframe[column] == -1).sum()\n",
    "        print(\"Column \" + column + \": \" + str(_columnScore))"
   ]
  },
  {
   "cell_type": "code",
   "execution_count": 349,
   "metadata": {},
   "outputs": [],
   "source": [
    "df = df.drop('Unnamed: 0',axis=1)"
   ]
  },
  {
   "cell_type": "markdown",
   "metadata": {},
   "source": [
    "## Fetching the Data"
   ]
  },
  {
   "cell_type": "markdown",
   "metadata": {},
   "source": [
    "Fetching the raw sensor data from mongodb using secure connection. "
   ]
  },
  {
   "cell_type": "code",
   "execution_count": 380,
   "metadata": {},
   "outputs": [
    {
     "name": "stdout",
     "output_type": "stream",
     "text": [
      "Available databases:\n",
      "['smellStation', 'admin', 'local']\n"
     ]
    }
   ],
   "source": [
    "client = MongoClient(config.mongo_uri)\n",
    "\n",
    "try:\n",
    "    print('Available databases:')\n",
    "    print(client.list_database_names())\n",
    "except Exception:\n",
    "    print(\"Unable to connect to the server.\")"
   ]
  },
  {
   "cell_type": "code",
   "execution_count": 381,
   "metadata": {},
   "outputs": [],
   "source": [
    "db = client.get_database('smellStation')"
   ]
  },
  {
   "cell_type": "code",
   "execution_count": 382,
   "metadata": {},
   "outputs": [],
   "source": [
    "sensor_data = db.sensorData"
   ]
  },
  {
   "cell_type": "code",
   "execution_count": 383,
   "metadata": {},
   "outputs": [],
   "source": [
    "df = pd.DataFrame(list(sensor_data.find()))"
   ]
  },
  {
   "cell_type": "markdown",
   "metadata": {},
   "source": [
    "## Data Pre-processing"
   ]
  },
  {
   "cell_type": "code",
   "execution_count": 384,
   "metadata": {},
   "outputs": [
    {
     "name": "stderr",
     "output_type": "stream",
     "text": [
      "/var/folders/1n/bhlhgd8d6rxc39vc6_5lxy9w0000gn/T/ipykernel_1422/3325066838.py:2: FutureWarning: In a future version of pandas all arguments of DataFrame.drop except for the argument 'labels' will be keyword-only\n",
      "  df = df.drop('_id', 1)\n"
     ]
    }
   ],
   "source": [
    "# Removing MongoDB id object\n",
    "df = df.drop('_id', 1)"
   ]
  },
  {
   "cell_type": "code",
   "execution_count": 385,
   "metadata": {},
   "outputs": [
    {
     "data": {
      "text/html": [
       "<div>\n",
       "<style scoped>\n",
       "    .dataframe tbody tr th:only-of-type {\n",
       "        vertical-align: middle;\n",
       "    }\n",
       "\n",
       "    .dataframe tbody tr th {\n",
       "        vertical-align: top;\n",
       "    }\n",
       "\n",
       "    .dataframe thead th {\n",
       "        text-align: right;\n",
       "    }\n",
       "</style>\n",
       "<table border=\"1\" class=\"dataframe\">\n",
       "  <thead>\n",
       "    <tr style=\"text-align: right;\">\n",
       "      <th></th>\n",
       "      <th>occupancy</th>\n",
       "      <th>bin1</th>\n",
       "      <th>bin2</th>\n",
       "      <th>H2S</th>\n",
       "      <th>temperature</th>\n",
       "      <th>humidity</th>\n",
       "      <th>timestamp</th>\n",
       "    </tr>\n",
       "  </thead>\n",
       "  <tbody>\n",
       "    <tr>\n",
       "      <th>0</th>\n",
       "      <td>30</td>\n",
       "      <td>29.51</td>\n",
       "      <td>0.00</td>\n",
       "      <td>866</td>\n",
       "      <td>26.3</td>\n",
       "      <td>60.0</td>\n",
       "      <td>1638813600</td>\n",
       "    </tr>\n",
       "    <tr>\n",
       "      <th>1</th>\n",
       "      <td>27</td>\n",
       "      <td>28.97</td>\n",
       "      <td>0.00</td>\n",
       "      <td>902</td>\n",
       "      <td>28.1</td>\n",
       "      <td>35.0</td>\n",
       "      <td>1638814200</td>\n",
       "    </tr>\n",
       "    <tr>\n",
       "      <th>2</th>\n",
       "      <td>26</td>\n",
       "      <td>31.55</td>\n",
       "      <td>37.78</td>\n",
       "      <td>929</td>\n",
       "      <td>29.2</td>\n",
       "      <td>31.0</td>\n",
       "      <td>1638814800</td>\n",
       "    </tr>\n",
       "    <tr>\n",
       "      <th>3</th>\n",
       "      <td>25</td>\n",
       "      <td>-1.00</td>\n",
       "      <td>44.11</td>\n",
       "      <td>-1</td>\n",
       "      <td>-1.0</td>\n",
       "      <td>-1.0</td>\n",
       "      <td>1638815402</td>\n",
       "    </tr>\n",
       "    <tr>\n",
       "      <th>4</th>\n",
       "      <td>5</td>\n",
       "      <td>27.81</td>\n",
       "      <td>0.00</td>\n",
       "      <td>915</td>\n",
       "      <td>26.7</td>\n",
       "      <td>40.0</td>\n",
       "      <td>1638867600</td>\n",
       "    </tr>\n",
       "  </tbody>\n",
       "</table>\n",
       "</div>"
      ],
      "text/plain": [
       "   occupancy   bin1   bin2  H2S  temperature  humidity   timestamp\n",
       "0         30  29.51   0.00  866         26.3      60.0  1638813600\n",
       "1         27  28.97   0.00  902         28.1      35.0  1638814200\n",
       "2         26  31.55  37.78  929         29.2      31.0  1638814800\n",
       "3         25  -1.00  44.11   -1         -1.0      -1.0  1638815402\n",
       "4          5  27.81   0.00  915         26.7      40.0  1638867600"
      ]
     },
     "execution_count": 385,
     "metadata": {},
     "output_type": "execute_result"
    }
   ],
   "source": [
    "df.head()"
   ]
  },
  {
   "cell_type": "code",
   "execution_count": 386,
   "metadata": {},
   "outputs": [],
   "source": [
    "# Rounding timestamp for cleaner time format\n",
    "\n",
    "df[\"timestamp\"] = round(df[\"timestamp\"]/100)*100"
   ]
  },
  {
   "cell_type": "code",
   "execution_count": 387,
   "metadata": {},
   "outputs": [],
   "source": [
    "df[\"timestamp\"] = df[\"timestamp\"].astype(int)"
   ]
  },
  {
   "cell_type": "code",
   "execution_count": 388,
   "metadata": {},
   "outputs": [],
   "source": [
    "# df[\"date_time\"] = pd.to_datetime(df['timestamp'], unit='s')\n",
    "# df = df.drop(\"date_time\",axis=1)\n",
    "df['date'] = pd.to_datetime(df['timestamp'], unit='s').dt.date\n",
    "df['time'] = pd.to_datetime(df['timestamp'], unit='s').dt.time\n"
   ]
  },
  {
   "cell_type": "code",
   "execution_count": 389,
   "metadata": {},
   "outputs": [],
   "source": [
    "# Removing first day of data as only 4 samples were taken\n",
    "\n",
    "df = df.drop(labels=range(0,4), axis=0)\n"
   ]
  },
  {
   "cell_type": "code",
   "execution_count": 390,
   "metadata": {},
   "outputs": [],
   "source": [
    "df = df.reset_index()"
   ]
  },
  {
   "cell_type": "code",
   "execution_count": 391,
   "metadata": {},
   "outputs": [],
   "source": [
    "df = df.drop(\"index\",axis=1)"
   ]
  },
  {
   "cell_type": "code",
   "execution_count": 392,
   "metadata": {},
   "outputs": [],
   "source": [
    "# Interpolating missing data if only one datapoint is missing\n",
    "\n",
    "for i in range(1, len(df)-1):\n",
    "    for column in df:\n",
    "        if (df.loc[i, column]) == -1:\n",
    "            if df.loc[i+1,column] != -1 and df.loc[i-1,column] != -1:\n",
    "                df.loc[i,column] = round((df.loc[i+1,column] + df.loc[i-1,column])/2)\n"
   ]
  },
  {
   "cell_type": "code",
   "execution_count": 393,
   "metadata": {},
   "outputs": [
    {
     "data": {
      "text/html": [
       "<div>\n",
       "<style scoped>\n",
       "    .dataframe tbody tr th:only-of-type {\n",
       "        vertical-align: middle;\n",
       "    }\n",
       "\n",
       "    .dataframe tbody tr th {\n",
       "        vertical-align: top;\n",
       "    }\n",
       "\n",
       "    .dataframe thead th {\n",
       "        text-align: right;\n",
       "    }\n",
       "</style>\n",
       "<table border=\"1\" class=\"dataframe\">\n",
       "  <thead>\n",
       "    <tr style=\"text-align: right;\">\n",
       "      <th></th>\n",
       "      <th>occupancy</th>\n",
       "      <th>bin1</th>\n",
       "      <th>bin2</th>\n",
       "      <th>H2S</th>\n",
       "      <th>temperature</th>\n",
       "      <th>humidity</th>\n",
       "      <th>timestamp</th>\n",
       "      <th>date</th>\n",
       "      <th>time</th>\n",
       "    </tr>\n",
       "  </thead>\n",
       "  <tbody>\n",
       "    <tr>\n",
       "      <th>0</th>\n",
       "      <td>5</td>\n",
       "      <td>27.81</td>\n",
       "      <td>0.0</td>\n",
       "      <td>915</td>\n",
       "      <td>26.7</td>\n",
       "      <td>40.0</td>\n",
       "      <td>1638867600</td>\n",
       "      <td>2021-12-07</td>\n",
       "      <td>09:00:00</td>\n",
       "    </tr>\n",
       "    <tr>\n",
       "      <th>1</th>\n",
       "      <td>6</td>\n",
       "      <td>29.48</td>\n",
       "      <td>0.0</td>\n",
       "      <td>843</td>\n",
       "      <td>26.3</td>\n",
       "      <td>30.0</td>\n",
       "      <td>1638868200</td>\n",
       "      <td>2021-12-07</td>\n",
       "      <td>09:10:00</td>\n",
       "    </tr>\n",
       "    <tr>\n",
       "      <th>2</th>\n",
       "      <td>6</td>\n",
       "      <td>37.06</td>\n",
       "      <td>0.0</td>\n",
       "      <td>826</td>\n",
       "      <td>27.6</td>\n",
       "      <td>26.0</td>\n",
       "      <td>1638868800</td>\n",
       "      <td>2021-12-07</td>\n",
       "      <td>09:20:00</td>\n",
       "    </tr>\n",
       "    <tr>\n",
       "      <th>3</th>\n",
       "      <td>6</td>\n",
       "      <td>-1.00</td>\n",
       "      <td>0.0</td>\n",
       "      <td>837</td>\n",
       "      <td>28.0</td>\n",
       "      <td>25.0</td>\n",
       "      <td>1638869400</td>\n",
       "      <td>2021-12-07</td>\n",
       "      <td>09:30:00</td>\n",
       "    </tr>\n",
       "    <tr>\n",
       "      <th>4</th>\n",
       "      <td>6</td>\n",
       "      <td>-1.00</td>\n",
       "      <td>0.0</td>\n",
       "      <td>834</td>\n",
       "      <td>28.0</td>\n",
       "      <td>26.0</td>\n",
       "      <td>1638870000</td>\n",
       "      <td>2021-12-07</td>\n",
       "      <td>09:40:00</td>\n",
       "    </tr>\n",
       "  </tbody>\n",
       "</table>\n",
       "</div>"
      ],
      "text/plain": [
       "   occupancy   bin1  bin2  H2S  temperature  humidity   timestamp        date  \\\n",
       "0          5  27.81   0.0  915         26.7      40.0  1638867600  2021-12-07   \n",
       "1          6  29.48   0.0  843         26.3      30.0  1638868200  2021-12-07   \n",
       "2          6  37.06   0.0  826         27.6      26.0  1638868800  2021-12-07   \n",
       "3          6  -1.00   0.0  837         28.0      25.0  1638869400  2021-12-07   \n",
       "4          6  -1.00   0.0  834         28.0      26.0  1638870000  2021-12-07   \n",
       "\n",
       "       time  \n",
       "0  09:00:00  \n",
       "1  09:10:00  \n",
       "2  09:20:00  \n",
       "3  09:30:00  \n",
       "4  09:40:00  "
      ]
     },
     "execution_count": 393,
     "metadata": {},
     "output_type": "execute_result"
    }
   ],
   "source": [
    "df.head()"
   ]
  },
  {
   "cell_type": "code",
   "execution_count": 399,
   "metadata": {},
   "outputs": [
    {
     "name": "stdout",
     "output_type": "stream",
     "text": [
      "Score per column:\n",
      "Column occupancy: 325\n",
      "Column bin1: 128\n",
      "Column bin2: 183\n",
      "Column H2S: 787\n",
      "Column temperature: 908\n",
      "Column humidity: 908\n",
      "Column timestamp: 0\n",
      "Column date: 0\n",
      "Column time: 0\n"
     ]
    }
   ],
   "source": [
    "# Verifying the number of empty or missing data points in each column\n",
    "\n",
    "GetScore(df)"
   ]
  },
  {
   "cell_type": "code",
   "execution_count": 400,
   "metadata": {},
   "outputs": [
    {
     "data": {
      "text/plain": [
       "<AxesSubplot:xlabel='timestamp', ylabel='H2S'>"
      ]
     },
     "execution_count": 400,
     "metadata": {},
     "output_type": "execute_result"
    },
    {
     "data": {
      "image/png": "[encoded data removed]",
      "text/plain": [
       "<Figure size 432x288 with 1 Axes>"
      ]
     },
     "metadata": {
      "needs_background": "light"
     },
     "output_type": "display_data"
    }
   ],
   "source": [
    "# Initial H2S plot\n",
    "\n",
    "sns.lineplot(data=df, x=\"timestamp\", y=\"H2S\")"
   ]
  },
  {
   "cell_type": "markdown",
   "metadata": {},
   "source": [
    "## Fully Cleaned Dataframe"
   ]
  },
  {
   "cell_type": "markdown",
   "metadata": {},
   "source": [
    "A dataframe with no empty (-1) values was created to better analyse the data when every sensor was working correctly."
   ]
  },
  {
   "cell_type": "code",
   "execution_count": 429,
   "metadata": {},
   "outputs": [],
   "source": [
    "# Creating a dataframe with no mossing datapoints\n",
    "\n",
    "df_cleaned = df\n",
    "for column in df_cleaned:\n",
    "    df_cleaned = df_cleaned[df_cleaned[column] != -1]\n"
   ]
  },
  {
   "cell_type": "code",
   "execution_count": 430,
   "metadata": {},
   "outputs": [
    {
     "data": {
      "text/html": [
       "<div>\n",
       "<style scoped>\n",
       "    .dataframe tbody tr th:only-of-type {\n",
       "        vertical-align: middle;\n",
       "    }\n",
       "\n",
       "    .dataframe tbody tr th {\n",
       "        vertical-align: top;\n",
       "    }\n",
       "\n",
       "    .dataframe thead th {\n",
       "        text-align: right;\n",
       "    }\n",
       "</style>\n",
       "<table border=\"1\" class=\"dataframe\">\n",
       "  <thead>\n",
       "    <tr style=\"text-align: right;\">\n",
       "      <th></th>\n",
       "      <th>occupancy</th>\n",
       "      <th>bin1</th>\n",
       "      <th>bin2</th>\n",
       "      <th>H2S</th>\n",
       "      <th>temperature</th>\n",
       "      <th>humidity</th>\n",
       "      <th>timestamp</th>\n",
       "      <th>date</th>\n",
       "      <th>time</th>\n",
       "    </tr>\n",
       "  </thead>\n",
       "  <tbody>\n",
       "    <tr>\n",
       "      <th>0</th>\n",
       "      <td>5</td>\n",
       "      <td>27.81</td>\n",
       "      <td>0.0</td>\n",
       "      <td>915</td>\n",
       "      <td>26.7</td>\n",
       "      <td>40.0</td>\n",
       "      <td>1638867600</td>\n",
       "      <td>2021-12-07</td>\n",
       "      <td>09:00:00</td>\n",
       "    </tr>\n",
       "    <tr>\n",
       "      <th>1</th>\n",
       "      <td>6</td>\n",
       "      <td>29.48</td>\n",
       "      <td>0.0</td>\n",
       "      <td>843</td>\n",
       "      <td>26.3</td>\n",
       "      <td>30.0</td>\n",
       "      <td>1638868200</td>\n",
       "      <td>2021-12-07</td>\n",
       "      <td>09:10:00</td>\n",
       "    </tr>\n",
       "    <tr>\n",
       "      <th>2</th>\n",
       "      <td>6</td>\n",
       "      <td>37.06</td>\n",
       "      <td>0.0</td>\n",
       "      <td>826</td>\n",
       "      <td>27.6</td>\n",
       "      <td>26.0</td>\n",
       "      <td>1638868800</td>\n",
       "      <td>2021-12-07</td>\n",
       "      <td>09:20:00</td>\n",
       "    </tr>\n",
       "    <tr>\n",
       "      <th>5</th>\n",
       "      <td>7</td>\n",
       "      <td>25.61</td>\n",
       "      <td>0.0</td>\n",
       "      <td>832</td>\n",
       "      <td>27.8</td>\n",
       "      <td>26.0</td>\n",
       "      <td>1638870600</td>\n",
       "      <td>2021-12-07</td>\n",
       "      <td>09:50:00</td>\n",
       "    </tr>\n",
       "    <tr>\n",
       "      <th>6</th>\n",
       "      <td>13</td>\n",
       "      <td>27.00</td>\n",
       "      <td>0.0</td>\n",
       "      <td>800</td>\n",
       "      <td>29.3</td>\n",
       "      <td>21.0</td>\n",
       "      <td>1638871200</td>\n",
       "      <td>2021-12-07</td>\n",
       "      <td>10:00:00</td>\n",
       "    </tr>\n",
       "  </tbody>\n",
       "</table>\n",
       "</div>"
      ],
      "text/plain": [
       "   occupancy   bin1  bin2  H2S  temperature  humidity   timestamp        date  \\\n",
       "0          5  27.81   0.0  915         26.7      40.0  1638867600  2021-12-07   \n",
       "1          6  29.48   0.0  843         26.3      30.0  1638868200  2021-12-07   \n",
       "2          6  37.06   0.0  826         27.6      26.0  1638868800  2021-12-07   \n",
       "5          7  25.61   0.0  832         27.8      26.0  1638870600  2021-12-07   \n",
       "6         13  27.00   0.0  800         29.3      21.0  1638871200  2021-12-07   \n",
       "\n",
       "       time  \n",
       "0  09:00:00  \n",
       "1  09:10:00  \n",
       "2  09:20:00  \n",
       "5  09:50:00  \n",
       "6  10:00:00  "
      ]
     },
     "execution_count": 430,
     "metadata": {},
     "output_type": "execute_result"
    }
   ],
   "source": [
    "df_cleaned.head()"
   ]
  },
  {
   "cell_type": "code",
   "execution_count": 431,
   "metadata": {},
   "outputs": [],
   "source": [
    "df_cleaned = df_cleaned.drop(\"timestamp\",axis=1)\n",
    "# df_cleaned = df_cleaned.drop(\"date_time\",axis=1)"
   ]
  },
  {
   "cell_type": "code",
   "execution_count": 432,
   "metadata": {},
   "outputs": [
    {
     "data": {
      "text/plain": [
       "389"
      ]
     },
     "execution_count": 432,
     "metadata": {},
     "output_type": "execute_result"
    }
   ],
   "source": [
    "len(df_cleaned)"
   ]
  },
  {
   "cell_type": "code",
   "execution_count": 433,
   "metadata": {},
   "outputs": [
    {
     "name": "stdout",
     "output_type": "stream",
     "text": [
      "occupancy\n",
      "(-0.060357100798169916, 0.23495942336125927)\n",
      "bin1\n",
      "(-0.25676942555191684, 2.8316553934057144e-07)\n",
      "bin2\n",
      "(-0.16087340435926173, 0.0014552219506377446)\n",
      "H2S\n",
      "(1.0, 0.0)\n",
      "temperature\n",
      "(0.19720602820901298, 9.021255381434366e-05)\n",
      "humidity\n",
      "(0.2733020048103918, 4.3102953280594573e-08)\n"
     ]
    }
   ],
   "source": [
    "from scipy import stats\n",
    "for column in df_cleaned: \n",
    "    if (column != \"date\" and column != \"time\"):\n",
    "        print(column)\n",
    "        print(stats.pearsonr(df_cleaned['H2S'], df_cleaned[column]))"
   ]
  },
  {
   "cell_type": "code",
   "execution_count": 406,
   "metadata": {},
   "outputs": [
    {
     "data": {
      "image/png": "[encoded data removed]",
      "text/plain": [
       "<Figure size 1080x432 with 3 Axes>"
      ]
     },
     "metadata": {
      "needs_background": "light"
     },
     "output_type": "display_data"
    }
   ],
   "source": [
    "\n",
    "from scipy.signal import savgol_filter\n",
    "\n",
    "fig, ax1 = plt.subplots(figsize=(15,6))\n",
    "\n",
    "# smooth_H2S = savgol_filter(df[\"H2S\"], 51, 3) # window size 51, polynomial order 3\n",
    "# smooth_occupancy = savgol_filter(df[\"bin1\"], 51, 3) # window size 51, polynomial order 3\n",
    "\n",
    "smooth_H2S = df[\"H2S\"]\n",
    "smooth_occupancy = df[\"bin1\"]\n",
    "\n",
    "# plt.figure(figsize=(12, 6), dpi=80)\n",
    "\n",
    "color = 'tab:blue'\n",
    "ax1.set_xlabel('timestamp')\n",
    "ax1.set_ylabel('bin', color=color)\n",
    "ax1.plot(df[\"timestamp\"],smooth_occupancy, color=color)\n",
    "ax1.tick_params(axis='y', labelcolor=color)\n",
    "\n",
    "ax2 = ax1.twinx()  # instantiate a second axes that shares the same x-axis\n",
    "\n",
    "color = 'tab:red'\n",
    "ax2.set_ylabel('H2S', color=color)  # we already handled the x-label with ax1\n",
    "ax2.plot(df[\"timestamp\"],smooth_H2S, color=color)\n",
    "ax2.tick_params(axis='y', labelcolor=color)\n",
    "# ax2.set_yticks(np.linspace(ax2.get_yticks()[0], ax2.get_yticks()[-1], len(ax1.get_yticks())))\n",
    "\n",
    "ax3 = ax1.twinx()  # instantiate a second axes that shares the same x-axis\n",
    "\n",
    "color = 'tab:green'\n",
    "ax3.set_ylabel('occupancy', color=color)  # we already handled the x-label with ax1\n",
    "ax3.plot(df[\"timestamp\"],df[\"occupancy\"], color=color)\n",
    "ax3.tick_params(axis='y', labelcolor=color)\n",
    "\n",
    "fig.tight_layout()  # otherwise the right y-label is slightly clipped\n",
    "\n",
    "# Creating lines for 8AM, 6PM and midnight\n",
    "for i in range(9):\n",
    "    plt.axvline(1639612800 - (86400 * i),0,1, color = \"grey\")\n",
    "    plt.axvline(1639612800 - (86400 * i) + 28800,0,1, color = \"grey\", linestyle=\"dotted\")\n",
    "    plt.axvline(1639612800 - (86400 * i) - 21600,0,1, color = \"grey\", linestyle=\"dotted\")\n",
    "\n",
    "plt.show()\n"
   ]
  },
  {
   "cell_type": "code",
   "execution_count": 434,
   "metadata": {},
   "outputs": [
    {
     "data": {
      "text/html": [
       "<div>\n",
       "<style scoped>\n",
       "    .dataframe tbody tr th:only-of-type {\n",
       "        vertical-align: middle;\n",
       "    }\n",
       "\n",
       "    .dataframe tbody tr th {\n",
       "        vertical-align: top;\n",
       "    }\n",
       "\n",
       "    .dataframe thead th {\n",
       "        text-align: right;\n",
       "    }\n",
       "</style>\n",
       "<table border=\"1\" class=\"dataframe\">\n",
       "  <thead>\n",
       "    <tr style=\"text-align: right;\">\n",
       "      <th></th>\n",
       "      <th>occupancy</th>\n",
       "      <th>bin1</th>\n",
       "      <th>bin2</th>\n",
       "      <th>H2S</th>\n",
       "      <th>temperature</th>\n",
       "      <th>humidity</th>\n",
       "      <th>date</th>\n",
       "      <th>time</th>\n",
       "    </tr>\n",
       "  </thead>\n",
       "  <tbody>\n",
       "    <tr>\n",
       "      <th>0</th>\n",
       "      <td>5</td>\n",
       "      <td>27.81</td>\n",
       "      <td>0.0</td>\n",
       "      <td>915</td>\n",
       "      <td>26.7</td>\n",
       "      <td>40.0</td>\n",
       "      <td>2021-12-07</td>\n",
       "      <td>09:00:00</td>\n",
       "    </tr>\n",
       "    <tr>\n",
       "      <th>1</th>\n",
       "      <td>6</td>\n",
       "      <td>29.48</td>\n",
       "      <td>0.0</td>\n",
       "      <td>843</td>\n",
       "      <td>26.3</td>\n",
       "      <td>30.0</td>\n",
       "      <td>2021-12-07</td>\n",
       "      <td>09:10:00</td>\n",
       "    </tr>\n",
       "    <tr>\n",
       "      <th>2</th>\n",
       "      <td>6</td>\n",
       "      <td>37.06</td>\n",
       "      <td>0.0</td>\n",
       "      <td>826</td>\n",
       "      <td>27.6</td>\n",
       "      <td>26.0</td>\n",
       "      <td>2021-12-07</td>\n",
       "      <td>09:20:00</td>\n",
       "    </tr>\n",
       "    <tr>\n",
       "      <th>5</th>\n",
       "      <td>7</td>\n",
       "      <td>25.61</td>\n",
       "      <td>0.0</td>\n",
       "      <td>832</td>\n",
       "      <td>27.8</td>\n",
       "      <td>26.0</td>\n",
       "      <td>2021-12-07</td>\n",
       "      <td>09:50:00</td>\n",
       "    </tr>\n",
       "    <tr>\n",
       "      <th>6</th>\n",
       "      <td>13</td>\n",
       "      <td>27.00</td>\n",
       "      <td>0.0</td>\n",
       "      <td>800</td>\n",
       "      <td>29.3</td>\n",
       "      <td>21.0</td>\n",
       "      <td>2021-12-07</td>\n",
       "      <td>10:00:00</td>\n",
       "    </tr>\n",
       "  </tbody>\n",
       "</table>\n",
       "</div>"
      ],
      "text/plain": [
       "   occupancy   bin1  bin2  H2S  temperature  humidity        date      time\n",
       "0          5  27.81   0.0  915         26.7      40.0  2021-12-07  09:00:00\n",
       "1          6  29.48   0.0  843         26.3      30.0  2021-12-07  09:10:00\n",
       "2          6  37.06   0.0  826         27.6      26.0  2021-12-07  09:20:00\n",
       "5          7  25.61   0.0  832         27.8      26.0  2021-12-07  09:50:00\n",
       "6         13  27.00   0.0  800         29.3      21.0  2021-12-07  10:00:00"
      ]
     },
     "execution_count": 434,
     "metadata": {},
     "output_type": "execute_result"
    }
   ],
   "source": [
    "df_analysis = df_cleaned\n",
    "df_analysis.head()"
   ]
  },
  {
   "cell_type": "code",
   "execution_count": 435,
   "metadata": {},
   "outputs": [
    {
     "data": {
      "text/plain": [
       "389"
      ]
     },
     "execution_count": 435,
     "metadata": {},
     "output_type": "execute_result"
    }
   ],
   "source": [
    "len(df_analysis)"
   ]
  },
  {
   "cell_type": "code",
   "execution_count": 437,
   "metadata": {},
   "outputs": [],
   "source": [
    "df_date_time = df_analysis[[\"time\",\"date\"]]"
   ]
  },
  {
   "cell_type": "code",
   "execution_count": 439,
   "metadata": {},
   "outputs": [],
   "source": [
    "from scipy.stats import zscore\n",
    "\n",
    "#normalising data\n",
    "scaler = MinMaxScaler((0,100))\n",
    "df_analysis[[\"bin1\",\"bin2\",\"H2S\",\"temperature\",\"humidity\"]] = scaler.fit_transform(-df_analysis[[\"bin1\",\"bin2\",\"H2S\",\"temperature\",\"humidity\"]])\n",
    "\n",
    "#droping cols\n",
    "df_analysis = df_analysis.drop(\"date\", axis=1)\n",
    "df_analysis = df_analysis.drop(\"time\", axis=1)\n",
    "\n",
    "#removing outliers\n",
    "z_scores = stats.zscore(df_analysis)\n",
    "\n",
    "abs_z_scores = np.abs(z_scores)\n",
    "filtered_entries = (abs_z_scores < 2.5).all(axis=1)\n",
    "df_analysis = df_analysis[filtered_entries]"
   ]
  },
  {
   "cell_type": "code",
   "execution_count": 440,
   "metadata": {},
   "outputs": [
    {
     "data": {
      "text/html": [
       "<div>\n",
       "<style scoped>\n",
       "    .dataframe tbody tr th:only-of-type {\n",
       "        vertical-align: middle;\n",
       "    }\n",
       "\n",
       "    .dataframe tbody tr th {\n",
       "        vertical-align: top;\n",
       "    }\n",
       "\n",
       "    .dataframe thead th {\n",
       "        text-align: right;\n",
       "    }\n",
       "</style>\n",
       "<table border=\"1\" class=\"dataframe\">\n",
       "  <thead>\n",
       "    <tr style=\"text-align: right;\">\n",
       "      <th></th>\n",
       "      <th>occupancy</th>\n",
       "      <th>bin1</th>\n",
       "      <th>bin2</th>\n",
       "      <th>H2S</th>\n",
       "      <th>temperature</th>\n",
       "      <th>humidity</th>\n",
       "    </tr>\n",
       "  </thead>\n",
       "  <tbody>\n",
       "    <tr>\n",
       "      <th>141</th>\n",
       "      <td>1</td>\n",
       "      <td>71.087719</td>\n",
       "      <td>47.931254</td>\n",
       "      <td>22.389666</td>\n",
       "      <td>62.222222</td>\n",
       "      <td>14.814815</td>\n",
       "    </tr>\n",
       "    <tr>\n",
       "      <th>142</th>\n",
       "      <td>1</td>\n",
       "      <td>71.415205</td>\n",
       "      <td>46.721833</td>\n",
       "      <td>25.726588</td>\n",
       "      <td>46.666667</td>\n",
       "      <td>18.518519</td>\n",
       "    </tr>\n",
       "    <tr>\n",
       "      <th>144</th>\n",
       "      <td>2</td>\n",
       "      <td>72.000000</td>\n",
       "      <td>49.220242</td>\n",
       "      <td>23.896663</td>\n",
       "      <td>28.888889</td>\n",
       "      <td>18.518519</td>\n",
       "    </tr>\n",
       "    <tr>\n",
       "      <th>145</th>\n",
       "      <td>5</td>\n",
       "      <td>72.421053</td>\n",
       "      <td>39.719924</td>\n",
       "      <td>24.542519</td>\n",
       "      <td>28.888889</td>\n",
       "      <td>18.518519</td>\n",
       "    </tr>\n",
       "    <tr>\n",
       "      <th>146</th>\n",
       "      <td>4</td>\n",
       "      <td>72.654971</td>\n",
       "      <td>58.545512</td>\n",
       "      <td>19.806243</td>\n",
       "      <td>35.555556</td>\n",
       "      <td>11.111111</td>\n",
       "    </tr>\n",
       "  </tbody>\n",
       "</table>\n",
       "</div>"
      ],
      "text/plain": [
       "     occupancy       bin1       bin2        H2S  temperature   humidity\n",
       "141          1  71.087719  47.931254  22.389666    62.222222  14.814815\n",
       "142          1  71.415205  46.721833  25.726588    46.666667  18.518519\n",
       "144          2  72.000000  49.220242  23.896663    28.888889  18.518519\n",
       "145          5  72.421053  39.719924  24.542519    28.888889  18.518519\n",
       "146          4  72.654971  58.545512  19.806243    35.555556  11.111111"
      ]
     },
     "execution_count": 440,
     "metadata": {},
     "output_type": "execute_result"
    }
   ],
   "source": [
    "df_analysis.head()"
   ]
  },
  {
   "cell_type": "code",
   "execution_count": 441,
   "metadata": {},
   "outputs": [],
   "source": [
    "for column in df_analysis:\n",
    "    if column == \"date\":\n",
    "        pass\n",
    "    else:\n",
    "        df_analysis[column] = df_analysis[column].astype(int)"
   ]
  },
  {
   "cell_type": "code",
   "execution_count": 442,
   "metadata": {},
   "outputs": [
    {
     "data": {
      "text/html": [
       "<div>\n",
       "<style scoped>\n",
       "    .dataframe tbody tr th:only-of-type {\n",
       "        vertical-align: middle;\n",
       "    }\n",
       "\n",
       "    .dataframe tbody tr th {\n",
       "        vertical-align: top;\n",
       "    }\n",
       "\n",
       "    .dataframe thead th {\n",
       "        text-align: right;\n",
       "    }\n",
       "</style>\n",
       "<table border=\"1\" class=\"dataframe\">\n",
       "  <thead>\n",
       "    <tr style=\"text-align: right;\">\n",
       "      <th></th>\n",
       "      <th>occupancy</th>\n",
       "      <th>bin1</th>\n",
       "      <th>bin2</th>\n",
       "      <th>H2S</th>\n",
       "      <th>temperature</th>\n",
       "      <th>humidity</th>\n",
       "    </tr>\n",
       "  </thead>\n",
       "  <tbody>\n",
       "    <tr>\n",
       "      <th>occupancy</th>\n",
       "      <td>1.0</td>\n",
       "      <td>3699.0</td>\n",
       "      <td>3707.0</td>\n",
       "      <td>3656.0</td>\n",
       "      <td>3707.0</td>\n",
       "      <td>2880.0</td>\n",
       "    </tr>\n",
       "    <tr>\n",
       "      <th>bin1</th>\n",
       "      <td>3699.0</td>\n",
       "      <td>1.0</td>\n",
       "      <td>16084.0</td>\n",
       "      <td>9267.0</td>\n",
       "      <td>14626.0</td>\n",
       "      <td>7341.0</td>\n",
       "    </tr>\n",
       "    <tr>\n",
       "      <th>bin2</th>\n",
       "      <td>3707.0</td>\n",
       "      <td>16084.0</td>\n",
       "      <td>1.0</td>\n",
       "      <td>9581.0</td>\n",
       "      <td>14464.0</td>\n",
       "      <td>8259.0</td>\n",
       "    </tr>\n",
       "    <tr>\n",
       "      <th>H2S</th>\n",
       "      <td>3656.0</td>\n",
       "      <td>9267.0</td>\n",
       "      <td>9581.0</td>\n",
       "      <td>1.0</td>\n",
       "      <td>9405.0</td>\n",
       "      <td>6467.0</td>\n",
       "    </tr>\n",
       "    <tr>\n",
       "      <th>temperature</th>\n",
       "      <td>3707.0</td>\n",
       "      <td>14626.0</td>\n",
       "      <td>14464.0</td>\n",
       "      <td>9405.0</td>\n",
       "      <td>1.0</td>\n",
       "      <td>6650.0</td>\n",
       "    </tr>\n",
       "    <tr>\n",
       "      <th>humidity</th>\n",
       "      <td>2880.0</td>\n",
       "      <td>7341.0</td>\n",
       "      <td>8259.0</td>\n",
       "      <td>6467.0</td>\n",
       "      <td>6650.0</td>\n",
       "      <td>1.0</td>\n",
       "    </tr>\n",
       "  </tbody>\n",
       "</table>\n",
       "</div>"
      ],
      "text/plain": [
       "             occupancy     bin1     bin2     H2S  temperature  humidity\n",
       "occupancy          1.0   3699.0   3707.0  3656.0       3707.0    2880.0\n",
       "bin1            3699.0      1.0  16084.0  9267.0      14626.0    7341.0\n",
       "bin2            3707.0  16084.0      1.0  9581.0      14464.0    8259.0\n",
       "H2S             3656.0   9267.0   9581.0     1.0       9405.0    6467.0\n",
       "temperature     3707.0  14626.0  14464.0  9405.0          1.0    6650.0\n",
       "humidity        2880.0   7341.0   8259.0  6467.0       6650.0       1.0"
      ]
     },
     "execution_count": 442,
     "metadata": {},
     "output_type": "execute_result"
    }
   ],
   "source": [
    "def histogram_intersection(a, b):\n",
    "    v = np.minimum(a, b).sum().round(decimals=1)\n",
    "    return v\n",
    "\n",
    "df_analysis.corr(method=histogram_intersection)\n"
   ]
  },
  {
   "cell_type": "code",
   "execution_count": 443,
   "metadata": {},
   "outputs": [],
   "source": [
    "df_analysis = df_analysis.reset_index()\n",
    "df_analysis = df_analysis.drop(\"index\",axis=1)"
   ]
  },
  {
   "cell_type": "code",
   "execution_count": 444,
   "metadata": {},
   "outputs": [
    {
     "data": {
      "text/html": [
       "<div>\n",
       "<style scoped>\n",
       "    .dataframe tbody tr th:only-of-type {\n",
       "        vertical-align: middle;\n",
       "    }\n",
       "\n",
       "    .dataframe tbody tr th {\n",
       "        vertical-align: top;\n",
       "    }\n",
       "\n",
       "    .dataframe thead th {\n",
       "        text-align: right;\n",
       "    }\n",
       "</style>\n",
       "<table border=\"1\" class=\"dataframe\">\n",
       "  <thead>\n",
       "    <tr style=\"text-align: right;\">\n",
       "      <th></th>\n",
       "      <th>occupancy</th>\n",
       "      <th>bin1</th>\n",
       "      <th>bin2</th>\n",
       "      <th>H2S</th>\n",
       "      <th>temperature</th>\n",
       "      <th>humidity</th>\n",
       "      <th>time</th>\n",
       "      <th>date</th>\n",
       "    </tr>\n",
       "  </thead>\n",
       "  <tbody>\n",
       "    <tr>\n",
       "      <th>0</th>\n",
       "      <td>1</td>\n",
       "      <td>71</td>\n",
       "      <td>47</td>\n",
       "      <td>22</td>\n",
       "      <td>62</td>\n",
       "      <td>14</td>\n",
       "      <td>09:00:00</td>\n",
       "      <td>2021-12-07</td>\n",
       "    </tr>\n",
       "    <tr>\n",
       "      <th>1</th>\n",
       "      <td>1</td>\n",
       "      <td>71</td>\n",
       "      <td>46</td>\n",
       "      <td>25</td>\n",
       "      <td>46</td>\n",
       "      <td>18</td>\n",
       "      <td>09:10:00</td>\n",
       "      <td>2021-12-07</td>\n",
       "    </tr>\n",
       "    <tr>\n",
       "      <th>2</th>\n",
       "      <td>2</td>\n",
       "      <td>72</td>\n",
       "      <td>49</td>\n",
       "      <td>23</td>\n",
       "      <td>28</td>\n",
       "      <td>18</td>\n",
       "      <td>09:20:00</td>\n",
       "      <td>2021-12-07</td>\n",
       "    </tr>\n",
       "    <tr>\n",
       "      <th>5</th>\n",
       "      <td>2</td>\n",
       "      <td>72</td>\n",
       "      <td>58</td>\n",
       "      <td>15</td>\n",
       "      <td>33</td>\n",
       "      <td>14</td>\n",
       "      <td>09:50:00</td>\n",
       "      <td>2021-12-07</td>\n",
       "    </tr>\n",
       "    <tr>\n",
       "      <th>6</th>\n",
       "      <td>5</td>\n",
       "      <td>74</td>\n",
       "      <td>47</td>\n",
       "      <td>12</td>\n",
       "      <td>35</td>\n",
       "      <td>11</td>\n",
       "      <td>10:00:00</td>\n",
       "      <td>2021-12-07</td>\n",
       "    </tr>\n",
       "  </tbody>\n",
       "</table>\n",
       "</div>"
      ],
      "text/plain": [
       "   occupancy  bin1  bin2  H2S  temperature  humidity      time        date\n",
       "0          1    71    47   22           62        14  09:00:00  2021-12-07\n",
       "1          1    71    46   25           46        18  09:10:00  2021-12-07\n",
       "2          2    72    49   23           28        18  09:20:00  2021-12-07\n",
       "5          2    72    58   15           33        14  09:50:00  2021-12-07\n",
       "6          5    74    47   12           35        11  10:00:00  2021-12-07"
      ]
     },
     "execution_count": 444,
     "metadata": {},
     "output_type": "execute_result"
    }
   ],
   "source": [
    "df_analysis = pd.concat([df_analysis, df_date_time], axis=1, join=\"inner\")\n",
    "df_analysis.head()"
   ]
  },
  {
   "cell_type": "markdown",
   "metadata": {},
   "source": [
    "## Exporting CSV Data"
   ]
  },
  {
   "cell_type": "markdown",
   "metadata": {},
   "source": [
    "For easy access to the data, the processed sensor data was both exported to the database as well a saved as a CSV file for local use. "
   ]
  },
  {
   "cell_type": "code",
   "execution_count": 414,
   "metadata": {},
   "outputs": [],
   "source": [
    "df.to_csv(\"Export_Data/data.csv\", index = True, header=True)\n",
    "df_cleaned.to_csv(\"Export_Data/cleanedData.csv\", index = True, header=True)\n",
    "df_analysis.to_csv(\"Export_Data/analysisData.csv\", index = True, header=True)"
   ]
  }
 ],
 "metadata": {
  "interpreter": {
   "hash": "2985b5d650661353db8f609e06e026c06c27bfd09dbad7ad94e602b1a01f0d32"
  },
  "kernelspec": {
   "display_name": "Python 3.8.3 64-bit",
   "language": "python",
   "name": "python3"
  },
  "language_info": {
   "codemirror_mode": {
    "name": "ipython",
    "version": 3
   },
   "file_extension": ".py",
   "mimetype": "text/x-python",
   "name": "python",
   "nbconvert_exporter": "python",
   "pygments_lexer": "ipython3",
   "version": "3.8.9"
  },
  "orig_nbformat": 4
 },
 "nbformat": 4,
 "nbformat_minor": 2
}
